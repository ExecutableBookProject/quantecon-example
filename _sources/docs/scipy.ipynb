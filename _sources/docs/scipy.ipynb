{
 "cells": [
  {
   "cell_type": "markdown",
   "metadata": {},
   "source": [
    "(sp)=\n",
    "\n",
    "# SciPy\n",
    "\n",
    "## Overview\n",
    "\n",
    "[SciPy](http://www.scipy.org) builds on top of NumPy to provide common\n",
    "tools for scientific programming such as\n",
    "\n",
    "-   [linear algebra](http://docs.scipy.org/doc/scipy/reference/linalg.html)\n",
    "-   [numerical\n",
    "    integration](http://docs.scipy.org/doc/scipy/reference/integrate.html)\n",
    "-   [interpolation](http://docs.scipy.org/doc/scipy/reference/interpolate.html)\n",
    "-   [optimization](http://docs.scipy.org/doc/scipy/reference/optimize.html)\n",
    "-   [distributions and random number generation](http://docs.scipy.org/doc/scipy/reference/stats.html)\n",
    "-   [signal processing](http://docs.scipy.org/doc/scipy/reference/signal.html)\n",
    "-   etc., etc\n",
    "\n",
    "Like NumPy, SciPy is stable, mature and widely used.\n",
    "\n",
    "Many SciPy routines are thin wrappers around industry-standard Fortran\n",
    "libraries such as [LAPACK](https://en.wikipedia.org/wiki/LAPACK),\n",
    "[BLAS](https://en.wikipedia.org/wiki/Basic_Linear_Algebra_Subprograms),\n",
    "etc.\n",
    "\n",
    "It\\'s not really necessary to \\\"learn\\\" SciPy as a whole.\n",
    "\n",
    "A more common approach is to get some idea of what\\'s in the library and\n",
    "then look up\n",
    "[documentation](http://docs.scipy.org/doc/scipy/reference/index.html) as\n",
    "required.\n",
    "\n",
    "In this lecture, we aim only to highlight some useful parts of the\n",
    "package.\n",
    "\n",
    "## SciPy versus NumPy\n",
    "\n",
    "SciPy is a package that contains various tools that are built on top of\n",
    "NumPy, using its array data type and related functionality.\n",
    "\n",
    "In fact, when we import SciPy we also get NumPy, as can be seen from\n",
    "this excerpt the SciPy initialization file:"
   ]
  },
  {
   "cell_type": "code",
   "execution_count": 1,
   "metadata": {},
   "outputs": [],
   "source": [
    "# Import numpy symbols to scipy namespace\n",
    "from numpy import *\n",
    "from numpy.random import rand, randn\n",
    "from numpy.fft import fft, ifft\n",
    "from numpy.lib.scimath import *"
   ]
  },
  {
   "cell_type": "markdown",
   "metadata": {},
   "source": [
    "However, it\\'s more common and better practice to use NumPy\n",
    "functionality explicitly"
   ]
  },
  {
   "cell_type": "code",
   "execution_count": 2,
   "metadata": {},
   "outputs": [],
   "source": [
    "import numpy as np\n",
    "\n",
    "a = np.identity(3)"
   ]
  },
  {
   "cell_type": "markdown",
   "metadata": {},
   "source": [
    "What is useful in SciPy is the functionality in its sub-packages\n",
    "\n",
    "-   `scipy.optimize`, `scipy.integrate`, `scipy.stats`, etc.\n",
    "\n",
    "Let\\'s explore some of the major sub-packages.\n",
    "\n",
    "## Statistics\n",
    "\n",
    "The `scipy.stats` subpackage supplies\n",
    "\n",
    "-   numerous random variable objects (densities, cumulative\n",
    "    distributions, random sampling, etc.)\n",
    "-   some estimation procedures\n",
    "-   some statistical tests\n",
    "\n",
    "### Random Variables and Distributions\n",
    "\n",
    "Recall that `numpy.random` provides functions for generating random\n",
    "variables"
   ]
  },
  {
   "cell_type": "code",
   "execution_count": 3,
   "metadata": {},
   "outputs": [
    {
     "data": {
      "text/plain": [
       "array([0.61711147, 0.62188686, 0.64259578])"
      ]
     },
     "execution_count": 3,
     "metadata": {},
     "output_type": "execute_result"
    }
   ],
   "source": [
    "np.random.beta(5, 5, size=3)"
   ]
  },
  {
   "cell_type": "markdown",
   "metadata": {},
   "source": [
    "This generates a draw from the distribution with the density function\n",
    "below when `a, b = 5, 5`\n",
    "\n",
    "$$\n",
    "f(x; a, b) = \\frac{x^{(a - 1)} (1 - x)^{(b - 1)}}\n",
    "    {\\int_0^1 u^{(a - 1)} (1 - u)^{(b - 1)} du}\n",
    "    \\qquad (0 \\leq x \\leq 1)\n",
    "$$\n",
    "\n",
    "Sometimes we need access to the density itself, or the cdf, the\n",
    "quantiles, etc.\n",
    "\n",
    "For this, we can use `scipy.stats`, which provides all of this\n",
    "functionality as well as random number generation in a single consistent\n",
    "interface.\n",
    "\n",
    "Here\\'s an example of usage"
   ]
  },
  {
   "cell_type": "code",
   "execution_count": 4,
   "metadata": {},
   "outputs": [
    {
     "data": {
      "image/png": "[encoded data removed]",
      "text/plain": [
       "<Figure size 432x288 with 1 Axes>"
      ]
     },
     "metadata": {
      "filenames": {
       "image/png": "/home/runner/work/quantecon-example/quantecon-example/book/_build/jupyter_execute/docs/scipy_7_0.png"
      },
      "needs_background": "light"
     },
     "output_type": "display_data"
    }
   ],
   "source": [
    "from scipy.stats import beta\n",
    "import matplotlib.pyplot as plt\n",
    "%matplotlib inline\n",
    "\n",
    "q = beta(5, 5)      # Beta(a, b), with a = b = 5\n",
    "obs = q.rvs(2000)   # 2000 observations\n",
    "grid = np.linspace(0.01, 0.99, 100)\n",
    "\n",
    "fig, ax = plt.subplots()\n",
    "ax.hist(obs, bins=40, density=True)\n",
    "ax.plot(grid, q.pdf(grid), 'k-', linewidth=2)\n",
    "plt.show()"
   ]
  },
  {
   "cell_type": "markdown",
   "metadata": {},
   "source": [
    "The object `q` that represents the distribution has additional useful\n",
    "methods, including"
   ]
  },
  {
   "cell_type": "code",
   "execution_count": 5,
   "metadata": {},
   "outputs": [
    {
     "data": {
      "text/plain": [
       "0.26656768000000003"
      ]
     },
     "execution_count": 5,
     "metadata": {},
     "output_type": "execute_result"
    }
   ],
   "source": [
    "q.cdf(0.4)      # Cumulative distribution function"
   ]
  },
  {
   "cell_type": "code",
   "execution_count": 6,
   "metadata": {},
   "outputs": [
    {
     "data": {
      "text/plain": [
       "0.6339134834642708"
      ]
     },
     "execution_count": 6,
     "metadata": {},
     "output_type": "execute_result"
    }
   ],
   "source": [
    "q.ppf(0.8)      # Quantile (inverse cdf) function"
   ]
  },
  {
   "cell_type": "code",
   "execution_count": 7,
   "metadata": {},
   "outputs": [
    {
     "data": {
      "text/plain": [
       "0.5"
      ]
     },
     "execution_count": 7,
     "metadata": {},
     "output_type": "execute_result"
    }
   ],
   "source": [
    "q.mean()"
   ]
  },
  {
   "cell_type": "markdown",
   "metadata": {},
   "source": [
    "The general syntax for creating these objects that represent\n",
    "distributions (of type `rv_frozen`) is\n",
    "\n",
    "> `name = scipy.stats.distribution_name(shape_parameters, loc=c, scale=d)`\n",
    "\n",
    "Here `distribution_name` is one of the distribution names in\n",
    "[scipy.stats](http://docs.scipy.org/doc/scipy/reference/stats.html).\n",
    "\n",
    "The `loc` and `scale` parameters transform the original random variable\n",
    "$X$ into $Y = c + d X$.\n",
    "\n",
    "### Alternative Syntax\n",
    "\n",
    "There is an alternative way of calling the methods described above.\n",
    "\n",
    "For example, the code that generates the figure above can be replaced by"
   ]
  },
  {
   "cell_type": "code",
   "execution_count": 8,
   "metadata": {},
   "outputs": [
    {
     "data": {
      "image/png": "[encoded data removed]",
      "text/plain": [
       "<Figure size 432x288 with 1 Axes>"
      ]
     },
     "metadata": {
      "filenames": {
       "image/png": "/home/runner/work/quantecon-example/quantecon-example/book/_build/jupyter_execute/docs/scipy_13_0.png"
      },
      "needs_background": "light"
     },
     "output_type": "display_data"
    }
   ],
   "source": [
    "obs = beta.rvs(5, 5, size=2000)\n",
    "grid = np.linspace(0.01, 0.99, 100)\n",
    "\n",
    "fig, ax = plt.subplots()\n",
    "ax.hist(obs, bins=40, density=True)\n",
    "ax.plot(grid, beta.pdf(grid, 5, 5), 'k-', linewidth=2)\n",
    "plt.show()"
   ]
  },
  {
   "cell_type": "markdown",
   "metadata": {},
   "source": [
    "### Other Goodies in scipy.stats\n",
    "\n",
    "There are a variety of statistical functions in `scipy.stats`.\n",
    "\n",
    "For example, `scipy.stats.linregress` implements simple linear\n",
    "regression"
   ]
  },
  {
   "cell_type": "code",
   "execution_count": 9,
   "metadata": {},
   "outputs": [
    {
     "data": {
      "text/plain": [
       "(2.000604828565753, -0.012927125512659472)"
      ]
     },
     "execution_count": 9,
     "metadata": {},
     "output_type": "execute_result"
    }
   ],
   "source": [
    "from scipy.stats import linregress\n",
    "\n",
    "x = np.random.randn(200)\n",
    "y = 2 * x + 0.1 * np.random.randn(200)\n",
    "gradient, intercept, r_value, p_value, std_err = linregress(x, y)\n",
    "gradient, intercept"
   ]
  },
  {
   "cell_type": "markdown",
   "metadata": {},
   "source": [
    "To see the full list, consult the\n",
    "[documentation](https://docs.scipy.org/doc/scipy/reference/stats.html#statistical-functions-scipy-stats).\n",
    "\n",
    "## Roots and Fixed Points\n",
    "\n",
    "A **root** or **zero** of a real function $f$ on $[a,b]$ is an\n",
    "$x \\in [a, b]$ such that $f(x)=0$.\n",
    "\n",
    "For example, if we plot the function\n",
    "\n",
    "```{math}\n",
    "---\n",
    "label: root_f\n",
    "---\n",
    "f(x) = \\sin(4 (x - 1/4)) + x + x^{20} - 1\n",
    "```\n",
    "\n",
    "with $x \\in [0,1]$ we get"
   ]
  },
  {
   "cell_type": "code",
   "execution_count": 10,
   "metadata": {},
   "outputs": [
    {
     "data": {
      "image/png": "[encoded data removed]",
      "text/plain": [
       "<Figure size 432x288 with 1 Axes>"
      ]
     },
     "metadata": {
      "filenames": {
       "image/png": "/home/runner/work/quantecon-example/quantecon-example/book/_build/jupyter_execute/docs/scipy_17_0.png"
      },
      "needs_background": "light"
     },
     "output_type": "display_data"
    }
   ],
   "source": [
    "f = lambda x: np.sin(4 * (x - 1/4)) + x + x**20 - 1\n",
    "x = np.linspace(0, 1, 100)\n",
    "\n",
    "fig, ax = plt.subplots()\n",
    "ax.plot(x, f(x))\n",
    "ax.axhline(ls='--', c='k', label='$f(x)$')\n",
    "ax.set_xlabel('$x$', fontsize=12)\n",
    "ax.set_ylabel('$f(x)$', fontsize=12)\n",
    "ax.legend(fontsize=12)\n",
    "plt.show()"
   ]
  },
  {
   "cell_type": "markdown",
   "metadata": {},
   "source": [
    "The unique root is approximately 0.408.\n",
    "\n",
    "Let\\'s consider some numerical techniques for finding roots.\n",
    "\n",
    "### Bisection\n",
    "\n",
    "One of the most common algorithms for numerical root-finding is\n",
    "*bisection*.\n",
    "\n",
    "To understand the idea, recall the well-known game where\n",
    "\n",
    "-   Player A thinks of a secret number between 1 and 100\n",
    "-   Player B asks if it\\'s less than 50\n",
    "\n",
    "    > -   If yes, B asks if it\\'s less than 25\n",
    "    > -   If no, B asks if it\\'s less than 75\n",
    "\n",
    "And so on.\n",
    "\n",
    "This is bisection.\n",
    "\n",
    "Here\\'s a simplistic implementation of the algorithm in Python.\n",
    "\n",
    "It works for all sufficiently well behaved increasing continuous\n",
    "functions with $f(a) < 0 < f(b)$\n",
    "\n",
    "(bisect_func)="
   ]
  },
  {
   "cell_type": "code",
   "execution_count": 11,
   "metadata": {},
   "outputs": [],
   "source": [
    "def bisect(f, a, b, tol=10e-5):\n",
    "    \"\"\"\n",
    "    Implements the bisection root finding algorithm, assuming that f is a\n",
    "    real-valued function on [a, b] satisfying f(a) < 0 < f(b).\n",
    "    \"\"\"\n",
    "    lower, upper = a, b\n",
    "\n",
    "    while upper - lower > tol:\n",
    "        middle = 0.5 * (upper + lower)\n",
    "        if f(middle) > 0:   # root is between lower and middle \n",
    "            lower, upper = lower, middle\n",
    "        else:               # root is between middle and upper \n",
    "            lower, upper = middle, upper\n",
    "\n",
    "    return 0.5 * (upper + lower)"
   ]
  },
  {
   "cell_type": "markdown",
   "metadata": {},
   "source": [
    "Let\\'s test it using the function $f$ defined in\n",
    "{math:numref}`root_f`"
   ]
  },
  {
   "cell_type": "code",
   "execution_count": 12,
   "metadata": {},
   "outputs": [
    {
     "data": {
      "text/plain": [
       "0.408294677734375"
      ]
     },
     "execution_count": 12,
     "metadata": {},
     "output_type": "execute_result"
    }
   ],
   "source": [
    "bisect(f, 0, 1)"
   ]
  },
  {
   "cell_type": "markdown",
   "metadata": {},
   "source": [
    "Not surprisingly, SciPy provides its own bisection function.\n",
    "\n",
    "Let\\'s test it using the same function $f$ defined in\n",
    "{math:numref}`root_f`"
   ]
  },
  {
   "cell_type": "code",
   "execution_count": 13,
   "metadata": {},
   "outputs": [
    {
     "data": {
      "text/plain": [
       "0.4082935042806639"
      ]
     },
     "execution_count": 13,
     "metadata": {},
     "output_type": "execute_result"
    }
   ],
   "source": [
    "from scipy.optimize import bisect\n",
    "\n",
    "bisect(f, 0, 1)"
   ]
  },
  {
   "cell_type": "markdown",
   "metadata": {},
   "source": [
    "### The Newton-Raphson Method\n",
    "\n",
    "Another very common root-finding algorithm is the [Newton-Raphson\n",
    "method](https://en.wikipedia.org/wiki/Newton%27s_method).\n",
    "\n",
    "In SciPy this algorithm is implemented by `scipy.optimize.newton`.\n",
    "\n",
    "Unlike bisection, the Newton-Raphson method uses local slope information\n",
    "in an attempt to increase the speed of convergence.\n",
    "\n",
    "Let\\'s investigate this using the same function $f$ defined above.\n",
    "\n",
    "With a suitable initial condition for the search we get convergence:"
   ]
  },
  {
   "cell_type": "code",
   "execution_count": 14,
   "metadata": {},
   "outputs": [
    {
     "data": {
      "text/plain": [
       "0.40829350427935673"
      ]
     },
     "execution_count": 14,
     "metadata": {},
     "output_type": "execute_result"
    }
   ],
   "source": [
    "from scipy.optimize import newton\n",
    "\n",
    "newton(f, 0.2)   # Start the search at initial condition x = 0.2"
   ]
  },
  {
   "cell_type": "markdown",
   "metadata": {},
   "source": [
    "But other initial conditions lead to failure of convergence:"
   ]
  },
  {
   "cell_type": "code",
   "execution_count": 15,
   "metadata": {},
   "outputs": [
    {
     "data": {
      "text/plain": [
       "0.7001700000000279"
      ]
     },
     "execution_count": 15,
     "metadata": {},
     "output_type": "execute_result"
    }
   ],
   "source": [
    "newton(f, 0.7)   # Start the search at x = 0.7 instead"
   ]
  },
  {
   "cell_type": "markdown",
   "metadata": {},
   "source": [
    "### Hybrid Methods\n",
    "\n",
    "A general principle of numerical methods is as follows:\n",
    "\n",
    "-   If you have specific knowledge about a given problem, you might be\n",
    "    able to exploit it to generate efficiency.\n",
    "-   If not, then the choice of algorithm involves a trade-off between\n",
    "    speed and robustness.\n",
    "\n",
    "In practice, most default algorithms for root-finding, optimization and\n",
    "fixed points use *hybrid* methods.\n",
    "\n",
    "These methods typically combine a fast method with a robust method in\n",
    "the following manner:\n",
    "\n",
    "1.  Attempt to use a fast method\n",
    "2.  Check diagnostics\n",
    "3.  If diagnostics are bad, then switch to a more robust algorithm\n",
    "\n",
    "In `scipy.optimize`, the function `brentq` is such a hybrid method and a\n",
    "good default"
   ]
  },
  {
   "cell_type": "code",
   "execution_count": 16,
   "metadata": {},
   "outputs": [
    {
     "data": {
      "text/plain": [
       "0.40829350427936706"
      ]
     },
     "execution_count": 16,
     "metadata": {},
     "output_type": "execute_result"
    }
   ],
   "source": [
    "from scipy.optimize import brentq\n",
    "\n",
    "brentq(f, 0, 1)"
   ]
  },
  {
   "cell_type": "markdown",
   "metadata": {},
   "source": [
    "Here the correct solution is found and the speed is better than\n",
    "bisection:"
   ]
  },
  {
   "cell_type": "code",
   "execution_count": 17,
   "metadata": {},
   "outputs": [
    {
     "name": "stdout",
     "output_type": "stream",
     "text": [
      "25.9 µs ± 986 ns per loop (mean ± std. dev. of 7 runs, 10000 loops each)\n"
     ]
    }
   ],
   "source": [
    "%timeit brentq(f, 0, 1)"
   ]
  },
  {
   "cell_type": "code",
   "execution_count": 18,
   "metadata": {},
   "outputs": [
    {
     "name": "stdout",
     "output_type": "stream",
     "text": [
      "94 µs ± 2.34 µs per loop (mean ± std. dev. of 7 runs, 10000 loops each)\n"
     ]
    }
   ],
   "source": [
    "%timeit bisect(f, 0, 1)"
   ]
  },
  {
   "cell_type": "markdown",
   "metadata": {},
   "source": [
    "### Multivariate Root-Finding\n",
    "\n",
    "Use `scipy.optimize.fsolve`, a wrapper for a hybrid method in MINPACK.\n",
    "\n",
    "See the\n",
    "[documentation](http://docs.scipy.org/doc/scipy/reference/generated/scipy.optimize.fsolve.html)\n",
    "for details.\n",
    "\n",
    "### Fixed Points\n",
    "\n",
    "A **fixed point** of a real function $f$ on $[a,b]$ is an $x \\in [a, b]$\n",
    "such that $f(x)=x$.\n",
    "\n",
    "SciPy has a function for finding (scalar) fixed points too"
   ]
  },
  {
   "cell_type": "code",
   "execution_count": 19,
   "metadata": {},
   "outputs": [
    {
     "data": {
      "text/plain": [
       "array(1.)"
      ]
     },
     "execution_count": 19,
     "metadata": {},
     "output_type": "execute_result"
    }
   ],
   "source": [
    "from scipy.optimize import fixed_point\n",
    "\n",
    "fixed_point(lambda x: x**2, 10.0)  # 10.0 is an initial guess"
   ]
  },
  {
   "cell_type": "markdown",
   "metadata": {},
   "source": [
    "If you don\\'t get good results, you can always switch back to the\n",
    "`brentq` root finder, since the fixed point of a function $f$ is the\n",
    "root of $g(x) := x - f(x)$.\n",
    "\n",
    "## Optimization\n",
    "\n",
    "Most numerical packages provide only functions for *minimization*.\n",
    "\n",
    "Maximization can be performed by recalling that the maximizer of a\n",
    "function $f$ on domain $D$ is the minimizer of $-f$ on $D$.\n",
    "\n",
    "Minimization is closely related to root-finding: For smooth functions,\n",
    "interior optima correspond to roots of the first derivative.\n",
    "\n",
    "The speed/robustness trade-off described above is present with numerical\n",
    "optimization too.\n",
    "\n",
    "Unless you have some prior information you can exploit, it\\'s usually\n",
    "best to use hybrid methods.\n",
    "\n",
    "For constrained, univariate (i.e., scalar) minimization, a good hybrid\n",
    "option is `fminbound`"
   ]
  },
  {
   "cell_type": "code",
   "execution_count": 20,
   "metadata": {},
   "outputs": [
    {
     "data": {
      "text/plain": [
       "0.0"
      ]
     },
     "execution_count": 20,
     "metadata": {},
     "output_type": "execute_result"
    }
   ],
   "source": [
    "from scipy.optimize import fminbound\n",
    "\n",
    "fminbound(lambda x: x**2, -1, 2)  # Search in [-1, 2]"
   ]
  },
  {
   "cell_type": "markdown",
   "metadata": {},
   "source": [
    "### Multivariate Optimization\n",
    "\n",
    "Multivariate local optimizers include `minimize`, `fmin`, `fmin_powell`,\n",
    "`fmin_cg`, `fmin_bfgs`, and `fmin_ncg`.\n",
    "\n",
    "Constrained multivariate local optimizers include `fmin_l_bfgs_b`,\n",
    "`fmin_tnc`, `fmin_cobyla`.\n",
    "\n",
    "See the\n",
    "[documentation](http://docs.scipy.org/doc/scipy/reference/optimize.html)\n",
    "for details.\n",
    "\n",
    "## Integration\n",
    "\n",
    "Most numerical integration methods work by computing the integral of an\n",
    "approximating polynomial.\n",
    "\n",
    "The resulting error depends on how well the polynomial fits the\n",
    "integrand, which in turn depends on how \\\"regular\\\" the integrand is.\n",
    "\n",
    "In SciPy, the relevant module for numerical integration is\n",
    "`scipy.integrate`.\n",
    "\n",
    "A good default for univariate integration is `quad`"
   ]
  },
  {
   "cell_type": "code",
   "execution_count": 21,
   "metadata": {},
   "outputs": [
    {
     "data": {
      "text/plain": [
       "0.33333333333333337"
      ]
     },
     "execution_count": 21,
     "metadata": {},
     "output_type": "execute_result"
    }
   ],
   "source": [
    "from scipy.integrate import quad\n",
    "\n",
    "integral, error = quad(lambda x: x**2, 0, 1)\n",
    "integral"
   ]
  },
  {
   "cell_type": "markdown",
   "metadata": {},
   "source": [
    "In fact, `quad` is an interface to a very standard numerical integration\n",
    "routine in the Fortran library QUADPACK.\n",
    "\n",
    "It uses [Clenshaw-Curtis\n",
    "quadrature](https://en.wikipedia.org/wiki/Clenshaw-Curtis_quadrature),\n",
    "based on expansion in terms of Chebychev polynomials.\n",
    "\n",
    "There are other options for univariate integration---a useful one is\n",
    "`fixed_quad`, which is fast and hence works well inside `for` loops.\n",
    "\n",
    "There are also functions for multivariate integration.\n",
    "\n",
    "See the\n",
    "[documentation](http://docs.scipy.org/doc/scipy/reference/integrate.html)\n",
    "for more details.\n",
    "\n",
    "## Linear Algebra\n",
    "\n",
    "We saw that NumPy provides a module for linear algebra called `linalg`.\n",
    "\n",
    "SciPy also provides a module for linear algebra with the same name.\n",
    "\n",
    "The latter is not an exact superset of the former, but overall it has\n",
    "more functionality.\n",
    "\n",
    "We leave you to investigate the [set of available\n",
    "routines](http://docs.scipy.org/doc/scipy/reference/linalg.html).\n",
    "\n",
    "## Exercises\n",
    "\n",
    "(sp_ex1)=\n",
    "\n",
    "### Exercise 1\n",
    "\n",
    "Previously we discussed the concept of\n",
    "{ref}`recursive function calls <recursive_functions>`.\n",
    "\n",
    "Try to write a recursive implementation of homemade bisection function\n",
    "{ref}`described above <bisect_func>`.\n",
    "\n",
    "Test it on the function {math:numref}`root_f`.\n",
    "\n",
    "## Solutions\n",
    "\n",
    "### Exercise 1\n",
    "\n",
    "Here\\'s a reasonable solution:"
   ]
  },
  {
   "cell_type": "code",
   "execution_count": 22,
   "metadata": {},
   "outputs": [],
   "source": [
    "def bisect(f, a, b, tol=10e-5):\n",
    "    \"\"\"\n",
    "    Implements the bisection root-finding algorithm, assuming that f is a\n",
    "    real-valued function on [a, b] satisfying f(a) < 0 < f(b).\n",
    "    \"\"\"\n",
    "    lower, upper = a, b\n",
    "    if upper - lower < tol:\n",
    "        return 0.5 * (upper + lower)\n",
    "    else:\n",
    "        middle = 0.5 * (upper + lower)\n",
    "        print(f'Current mid point = {middle}')\n",
    "        if f(middle) > 0:   # Implies root is between lower and middle\n",
    "            return bisect(f, lower, middle)\n",
    "        else:               # Implies root is between middle and upper\n",
    "            return bisect(f, middle, upper)"
   ]
  },
  {
   "cell_type": "markdown",
   "metadata": {},
   "source": [
    "We can test it as follows"
   ]
  },
  {
   "cell_type": "code",
   "execution_count": 23,
   "metadata": {},
   "outputs": [
    {
     "name": "stdout",
     "output_type": "stream",
     "text": [
      "Current mid point = 0.5\n",
      "Current mid point = 0.25\n",
      "Current mid point = 0.375\n",
      "Current mid point = 0.4375\n",
      "Current mid point = 0.40625\n",
      "Current mid point = 0.421875\n",
      "Current mid point = 0.4140625\n",
      "Current mid point = 0.41015625\n",
      "Current mid point = 0.408203125\n",
      "Current mid point = 0.4091796875\n",
      "Current mid point = 0.40869140625\n",
      "Current mid point = 0.408447265625\n",
      "Current mid point = 0.4083251953125\n",
      "Current mid point = 0.40826416015625\n"
     ]
    },
    {
     "data": {
      "text/plain": [
       "0.408294677734375"
      ]
     },
     "execution_count": 23,
     "metadata": {},
     "output_type": "execute_result"
    }
   ],
   "source": [
    "f = lambda x: np.sin(4 * (x - 0.25)) + x + x**20 - 1\n",
    "bisect(f, 0, 1)"
   ]
  }
 ],
 "metadata": {
  "jupytext": {
   "text_representation": {
    "extension": ".md",
    "format_name": "myst"
   }
  },
  "kernelspec": {
   "display_name": "Python 3",
   "language": "python",
   "name": "python3"
  },
  "language_info": {
   "codemirror_mode": {
    "name": "ipython",
    "version": 3
   },
   "file_extension": ".py",
   "mimetype": "text/x-python",
   "name": "python",
   "nbconvert_exporter": "python",
   "pygments_lexer": "ipython3",
   "version": "3.7.8"
  },
  "source_map": [
   10,
   55,
   61,
   66,
   70,
   92,
   94,
   114,
   127,
   132,
   136,
   140,
   142,
   161,
   169,
   178,
   185,
   206,
   217,
   247,
   263,
   268,
   270,
   277,
   281,
   297,
   301,
   305,
   307,
   331,
   335,
   340,
   344,
   346,
   363,
   367,
   392,
   396,
   423,
   428,
   478,
   494,
   498
  ]
 },
 "nbformat": 4,
 "nbformat_minor": 4
}