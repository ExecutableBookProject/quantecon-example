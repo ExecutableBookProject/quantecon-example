{
 "cells": [
  {
   "cell_type": "markdown",
   "metadata": {},
   "source": [
    "(functions)=\n",
    "\n",
    "# Functions\n",
    "\n",
    "## Overview\n",
    "\n",
    "One construct that\\'s extremely useful and provided by almost all\n",
    "programming languages is **functions**.\n",
    "\n",
    "We have already met several functions, such as\n",
    "\n",
    "-   the `sqrt()` function from NumPy and\n",
    "-   the built-in `print()` function\n",
    "\n",
    "In this lecture we\\'ll treat functions systematically and begin to learn\n",
    "just how useful and important they are.\n",
    "\n",
    "One of the things we will learn to do is build our own user-defined\n",
    "functions\n",
    "\n",
    "We will use the following imports."
   ]
  },
  {
   "cell_type": "code",
   "execution_count": 1,
   "metadata": {
    "tags": [
     "remove-output"
    ]
   },
   "outputs": [],
   "source": [
    "import numpy as np\n",
    "import matplotlib.pyplot as plt\n",
    "%matplotlib inline"
   ]
  },
  {
   "cell_type": "markdown",
   "metadata": {},
   "source": [
    "## Function Basics\n",
    "\n",
    "A function is a named section of a program that implements a specific\n",
    "task.\n",
    "\n",
    "Many functions exist already and we can use them off the shelf.\n",
    "\n",
    "First we review these functions and then discuss how we can build our\n",
    "own.\n",
    "\n",
    "### Built-In Functions\n",
    "\n",
    "Python has a number of *built-in* functions that are available without\n",
    "`import`.\n",
    "\n",
    "We have already met some"
   ]
  },
  {
   "cell_type": "code",
   "execution_count": 2,
   "metadata": {},
   "outputs": [
    {
     "data": {
      "text/plain": [
       "20"
      ]
     },
     "execution_count": 2,
     "metadata": {},
     "output_type": "execute_result"
    }
   ],
   "source": [
    "max(19, 20)"
   ]
  },
  {
   "cell_type": "code",
   "execution_count": 3,
   "metadata": {},
   "outputs": [
    {
     "name": "stdout",
     "output_type": "stream",
     "text": [
      "foobar\n"
     ]
    }
   ],
   "source": [
    "print('foobar')"
   ]
  },
  {
   "cell_type": "code",
   "execution_count": 4,
   "metadata": {},
   "outputs": [
    {
     "data": {
      "text/plain": [
       "'22'"
      ]
     },
     "execution_count": 4,
     "metadata": {},
     "output_type": "execute_result"
    }
   ],
   "source": [
    "str(22)"
   ]
  },
  {
   "cell_type": "code",
   "execution_count": 5,
   "metadata": {},
   "outputs": [
    {
     "data": {
      "text/plain": [
       "int"
      ]
     },
     "execution_count": 5,
     "metadata": {},
     "output_type": "execute_result"
    }
   ],
   "source": [
    "type(22)"
   ]
  },
  {
   "cell_type": "markdown",
   "metadata": {},
   "source": [
    "Two more useful built-in functions are `any()` and `all()`"
   ]
  },
  {
   "cell_type": "code",
   "execution_count": 6,
   "metadata": {},
   "outputs": [
    {
     "data": {
      "text/plain": [
       "False"
      ]
     },
     "execution_count": 6,
     "metadata": {},
     "output_type": "execute_result"
    }
   ],
   "source": [
    "bools = False, True, True\n",
    "all(bools)  # True if all are True and False otherwise"
   ]
  },
  {
   "cell_type": "code",
   "execution_count": 7,
   "metadata": {},
   "outputs": [
    {
     "data": {
      "text/plain": [
       "True"
      ]
     },
     "execution_count": 7,
     "metadata": {},
     "output_type": "execute_result"
    }
   ],
   "source": [
    "any(bools)  # False if all are False and True otherwise"
   ]
  },
  {
   "cell_type": "markdown",
   "metadata": {},
   "source": [
    "The full list of Python built-ins is\n",
    "[here](https://docs.python.org/library/functions.html).\n",
    "\n",
    "### Third Party Functions\n",
    "\n",
    "If the built-in functions don\\'t cover what we need, we either need to\n",
    "import functions or create our own.\n",
    "\n",
    "Examples of importing and using functions were given in the\n",
    "{ref}`previous lecture <python_by_example>`\n",
    "\n",
    "Here\\'s another one, which tests whether a given year is a leap year:"
   ]
  },
  {
   "cell_type": "code",
   "execution_count": 8,
   "metadata": {},
   "outputs": [
    {
     "data": {
      "text/plain": [
       "True"
      ]
     },
     "execution_count": 8,
     "metadata": {},
     "output_type": "execute_result"
    }
   ],
   "source": [
    "import calendar\n",
    "\n",
    "calendar.isleap(2020)"
   ]
  },
  {
   "cell_type": "markdown",
   "metadata": {},
   "source": [
    "## Defining Functions\n",
    "\n",
    "In many instances, it is useful to be able to define our own functions.\n",
    "\n",
    "This will become clearer as you see more examples.\n",
    "\n",
    "Let\\'s start by discussing how it\\'s done.\n",
    "\n",
    "### Syntax\n",
    "\n",
    "Here\\'s a very simple Python function, that implements the mathematical\n",
    "function $f(x) = 2 x + 1$"
   ]
  },
  {
   "cell_type": "code",
   "execution_count": 9,
   "metadata": {},
   "outputs": [],
   "source": [
    "def f(x):\n",
    "    return 2 * x + 1"
   ]
  },
  {
   "cell_type": "markdown",
   "metadata": {},
   "source": [
    "Now that we\\'ve *defined* this function, let\\'s *call* it and check\n",
    "whether it does what we expect:"
   ]
  },
  {
   "cell_type": "code",
   "execution_count": 10,
   "metadata": {},
   "outputs": [
    {
     "data": {
      "text/plain": [
       "3"
      ]
     },
     "execution_count": 10,
     "metadata": {},
     "output_type": "execute_result"
    }
   ],
   "source": [
    "f(1)"
   ]
  },
  {
   "cell_type": "code",
   "execution_count": 11,
   "metadata": {},
   "outputs": [
    {
     "data": {
      "text/plain": [
       "21"
      ]
     },
     "execution_count": 11,
     "metadata": {},
     "output_type": "execute_result"
    }
   ],
   "source": [
    "f(10)"
   ]
  },
  {
   "cell_type": "markdown",
   "metadata": {},
   "source": [
    "Here\\'s a longer function, that computes the absolute value of a given\n",
    "number.\n",
    "\n",
    "(Such a function already exists as a built-in, but let\\'s write our own\n",
    "for the exercise.)"
   ]
  },
  {
   "cell_type": "code",
   "execution_count": 12,
   "metadata": {},
   "outputs": [],
   "source": [
    "def new_abs_function(x):\n",
    "\n",
    "    if x < 0:\n",
    "        abs_value = -x\n",
    "    else:\n",
    "        abs_value = x\n",
    "\n",
    "    return abs_value"
   ]
  },
  {
   "cell_type": "markdown",
   "metadata": {},
   "source": [
    "Let\\'s review the syntax here.\n",
    "\n",
    "-   `def` is a Python keyword used to start function definitions.\n",
    "-   `def new_abs_function(x):` indicates that the function is called\n",
    "    `new_abs_function` and that it has a single argument `x`.\n",
    "-   The indented code is a code block called the *function body*.\n",
    "-   The `return` keyword indicates that `abs_value` is the object that\n",
    "    should be returned to the calling code.\n",
    "\n",
    "This whole function definition is read by the Python interpreter and\n",
    "stored in memory.\n",
    "\n",
    "Let\\'s call it to check that it works:"
   ]
  },
  {
   "cell_type": "code",
   "execution_count": 13,
   "metadata": {},
   "outputs": [
    {
     "name": "stdout",
     "output_type": "stream",
     "text": [
      "3\n",
      "3\n"
     ]
    }
   ],
   "source": [
    "print(new_abs_function(3))\n",
    "print(new_abs_function(-3))"
   ]
  },
  {
   "cell_type": "markdown",
   "metadata": {},
   "source": [
    "### Why Write Functions?\n",
    "\n",
    "User-defined functions are important for improving the clarity of your\n",
    "code by\n",
    "\n",
    "-   separating different strands of logic\n",
    "-   facilitating code reuse\n",
    "\n",
    "(Writing the same thing twice is [almost always a bad\n",
    "idea](https://en.wikipedia.org/wiki/Don%27t_repeat_yourself))\n",
    "\n",
    "We will say more about this\n",
    "{ref}`later <writing_good_code>`.\n",
    "\n",
    "## Applications\n",
    "\n",
    "### Random Draws\n",
    "\n",
    "Consider again this code from the\n",
    "{ref}`previous lecture <python_by_example>`"
   ]
  },
  {
   "cell_type": "code",
   "execution_count": 14,
   "metadata": {},
   "outputs": [
    {
     "data": {
      "image/png": "[encoded data removed]",
      "text/plain": [
       "<Figure size 432x288 with 1 Axes>"
      ]
     },
     "metadata": {
      "filenames": {
       "image/png": "/home/runner/work/quantecon-example/quantecon-example/book/_build/jupyter_execute/docs/functions_22_0.png"
      },
      "needs_background": "light"
     },
     "output_type": "display_data"
    }
   ],
   "source": [
    "ts_length = 100\n",
    "ϵ_values = []   # empty list\n",
    "\n",
    "for i in range(ts_length):\n",
    "    e = np.random.randn()\n",
    "    ϵ_values.append(e)\n",
    "\n",
    "plt.plot(ϵ_values)\n",
    "plt.show()"
   ]
  },
  {
   "cell_type": "markdown",
   "metadata": {},
   "source": [
    "We will break this program into two parts:\n",
    "\n",
    "1.  A user-defined function that generates a list of random variables.\n",
    "2.  The main part of the program that\n",
    "    1.  calls this function to get data\n",
    "    2.  plots the data\n",
    "\n",
    "This is accomplished in the next program\n",
    "\n",
    "(funcloopprog)="
   ]
  },
  {
   "cell_type": "code",
   "execution_count": 15,
   "metadata": {},
   "outputs": [
    {
     "data": {
      "image/png": "[encoded data removed]",
      "text/plain": [
       "<Figure size 432x288 with 1 Axes>"
      ]
     },
     "metadata": {
      "filenames": {
       "image/png": "/home/runner/work/quantecon-example/quantecon-example/book/_build/jupyter_execute/docs/functions_24_0.png"
      },
      "needs_background": "light"
     },
     "output_type": "display_data"
    }
   ],
   "source": [
    "def generate_data(n):\n",
    "    ϵ_values = []\n",
    "    for i in range(n):\n",
    "        e = np.random.randn()\n",
    "        ϵ_values.append(e)\n",
    "    return ϵ_values\n",
    "\n",
    "data = generate_data(100)\n",
    "plt.plot(data)\n",
    "plt.show()"
   ]
  },
  {
   "cell_type": "markdown",
   "metadata": {},
   "source": [
    "When the interpreter gets to the expression `generate_data(100)`, it\n",
    "executes the function body with `n` set equal to 100.\n",
    "\n",
    "The net result is that the name `data` is *bound* to the list `ϵ_values`\n",
    "returned by the function.\n",
    "\n",
    "### Adding Conditions\n",
    "\n",
    "Our function `generate_data()` is rather limited.\n",
    "\n",
    "Let\\'s make it slightly more useful by giving it the ability to return\n",
    "either standard normals or uniform random variables on $(0, 1)$ as\n",
    "required.\n",
    "\n",
    "This is achieved in the next piece of code.\n",
    "\n",
    "(funcloopprog2)="
   ]
  },
  {
   "cell_type": "code",
   "execution_count": 16,
   "metadata": {},
   "outputs": [
    {
     "data": {
      "image/png": "[encoded data removed]",
      "text/plain": [
       "<Figure size 432x288 with 1 Axes>"
      ]
     },
     "metadata": {
      "filenames": {
       "image/png": "/home/runner/work/quantecon-example/quantecon-example/book/_build/jupyter_execute/docs/functions_26_0.png"
      },
      "needs_background": "light"
     },
     "output_type": "display_data"
    }
   ],
   "source": [
    "def generate_data(n, generator_type):\n",
    "    ϵ_values = []\n",
    "    for i in range(n):\n",
    "        if generator_type == 'U':\n",
    "            e = np.random.uniform(0, 1)\n",
    "        else:\n",
    "            e = np.random.randn()\n",
    "        ϵ_values.append(e)\n",
    "    return ϵ_values\n",
    "\n",
    "data = generate_data(100, 'U')\n",
    "plt.plot(data)\n",
    "plt.show()"
   ]
  },
  {
   "cell_type": "markdown",
   "metadata": {},
   "source": [
    "Hopefully, the syntax of the if/else clause is self-explanatory, with\n",
    "indentation again delimiting the extent of the code blocks.\n",
    "\n",
    "```{note}\n",
    "-   We are passing the argument `U` as a string, which is why we write it as `'U'`.\n",
    "-   Notice that equality is tested with the `==` syntax, not `=`.\n",
    "    -   For example, the statement `a = 10` assigns the name `a` to the value `10`.\n",
    "    -   The expression `a == 10` evaluates to either `True` or `False`, depending on the value of `a`.\n",
    "```\n",
    "\n",
    "Now, there are several ways that we can simplify the code above.\n",
    "\n",
    "For example, we can get rid of the conditionals all together by just\n",
    "passing the desired generator type *as a function*.\n",
    "\n",
    "To understand this, consider the following version.\n",
    "\n",
    "(test_program_6)="
   ]
  },
  {
   "cell_type": "code",
   "execution_count": 17,
   "metadata": {},
   "outputs": [
    {
     "data": {
      "image/png": "[encoded data removed]",
      "text/plain": [
       "<Figure size 432x288 with 1 Axes>"
      ]
     },
     "metadata": {
      "filenames": {
       "image/png": "/home/runner/work/quantecon-example/quantecon-example/book/_build/jupyter_execute/docs/functions_28_0.png"
      },
      "needs_background": "light"
     },
     "output_type": "display_data"
    }
   ],
   "source": [
    "def generate_data(n, generator_type):\n",
    "    ϵ_values = []\n",
    "    for i in range(n):\n",
    "        e = generator_type()\n",
    "        ϵ_values.append(e)\n",
    "    return ϵ_values\n",
    "\n",
    "data = generate_data(100, np.random.uniform)\n",
    "plt.plot(data)\n",
    "plt.show()"
   ]
  },
  {
   "cell_type": "markdown",
   "metadata": {},
   "source": [
    "Now, when we call the function `generate_data()`, we pass\n",
    "`np.random.uniform` as the second argument.\n",
    "\n",
    "This object is a *function*.\n",
    "\n",
    "When the function call `generate_data(100, np.random.uniform)` is\n",
    "executed, Python runs the function code block with `n` equal to 100 and\n",
    "the name `generator_type` \\\"bound\\\" to the function `np.random.uniform`.\n",
    "\n",
    "-   While these lines are executed, the names `generator_type` and\n",
    "    `np.random.uniform` are \\\"synonyms\\\", and can be used in identical\n",
    "    ways.\n",
    "\n",
    "This principle works more generally---for example, consider the\n",
    "following piece of code"
   ]
  },
  {
   "cell_type": "code",
   "execution_count": 18,
   "metadata": {},
   "outputs": [
    {
     "data": {
      "text/plain": [
       "7"
      ]
     },
     "execution_count": 18,
     "metadata": {},
     "output_type": "execute_result"
    }
   ],
   "source": [
    "max(7, 2, 4)   # max() is a built-in Python function"
   ]
  },
  {
   "cell_type": "code",
   "execution_count": 19,
   "metadata": {},
   "outputs": [
    {
     "data": {
      "text/plain": [
       "7"
      ]
     },
     "execution_count": 19,
     "metadata": {},
     "output_type": "execute_result"
    }
   ],
   "source": [
    "m = max\n",
    "m(7, 2, 4)"
   ]
  },
  {
   "cell_type": "markdown",
   "metadata": {},
   "source": [
    "Here we created another name for the built-in function `max()`, which\n",
    "could then be used in identical ways.\n",
    "\n",
    "In the context of our program, the ability to bind new names to\n",
    "functions means that there is no problem \\*passing a function as an\n",
    "argument to another function\\*---as we did above.\n",
    "\n",
    "## Exercises\n",
    "\n",
    "### Exercise 1\n",
    "\n",
    "Recall that $n!$ is read as \\\"$n$ factorial\\\" and defined as\n",
    "$n! = n \\times (n - 1) \\times \\cdots \\times 2 \\times 1$.\n",
    "\n",
    "There are functions to compute this in various modules, but let\\'s write\n",
    "our own version as an exercise.\n",
    "\n",
    "In particular, write a function `factorial` such that `factorial(n)`\n",
    "returns $n!$ for any positive integer $n$.\n",
    "\n",
    "### Exercise 2\n",
    "\n",
    "The [binomial random\n",
    "variable](https://en.wikipedia.org/wiki/Binomial_distribution)\n",
    "$Y \\sim Bin(n, p)$ represents the number of successes in $n$ binary\n",
    "trials, where each trial succeeds with probability $p$.\n",
    "\n",
    "Without any import besides `from numpy.random import uniform`, write a\n",
    "function `binomial_rv` such that `binomial_rv(n, p)` generates one draw\n",
    "of $Y$.\n",
    "\n",
    "Hint: If $U$ is uniform on $(0, 1)$ and $p \\in (0,1)$, then the\n",
    "expression `U < p` evaluates to `True` with probability $p$.\n",
    "\n",
    "### Exercise 3\n",
    "\n",
    "First, write a function that returns one realization of the following\n",
    "random device\n",
    "\n",
    "1.  Flip an unbiased coin 10 times.\n",
    "2.  If a head occurs `k` or more times consecutively within this\n",
    "    sequence at least once, pay one dollar.\n",
    "3.  If not, pay nothing.\n",
    "\n",
    "Second, write another function that does the same task except that the\n",
    "second rule of the above random device becomes\n",
    "\n",
    "-   If a head occurs `k` or more times within this sequence, pay one\n",
    "    dollar.\n",
    "\n",
    "Use no import besides `from numpy.random import uniform`.\n",
    "\n",
    "## Solutions\n",
    "\n",
    "### Exercise 1\n",
    "\n",
    "Here\\'s one solution."
   ]
  },
  {
   "cell_type": "code",
   "execution_count": 20,
   "metadata": {},
   "outputs": [
    {
     "data": {
      "text/plain": [
       "24"
      ]
     },
     "execution_count": 20,
     "metadata": {},
     "output_type": "execute_result"
    }
   ],
   "source": [
    "def factorial(n):\n",
    "    k = 1\n",
    "    for i in range(n):\n",
    "        k = k * (i + 1)\n",
    "    return k\n",
    "\n",
    "factorial(4)"
   ]
  },
  {
   "cell_type": "markdown",
   "metadata": {},
   "source": [
    "### Exercise 2"
   ]
  },
  {
   "cell_type": "code",
   "execution_count": 21,
   "metadata": {},
   "outputs": [
    {
     "data": {
      "text/plain": [
       "3"
      ]
     },
     "execution_count": 21,
     "metadata": {},
     "output_type": "execute_result"
    }
   ],
   "source": [
    "from numpy.random import uniform\n",
    "\n",
    "def binomial_rv(n, p):\n",
    "    count = 0\n",
    "    for i in range(n):\n",
    "        U = uniform()\n",
    "        if U < p:\n",
    "            count = count + 1    # Or count += 1\n",
    "    return count\n",
    "\n",
    "binomial_rv(10, 0.5)"
   ]
  },
  {
   "cell_type": "markdown",
   "metadata": {},
   "source": [
    "### Exercise 3\n",
    "\n",
    "Here\\'s a function for the first random device."
   ]
  },
  {
   "cell_type": "code",
   "execution_count": 22,
   "metadata": {},
   "outputs": [
    {
     "name": "stdout",
     "output_type": "stream",
     "text": [
      "0\n",
      "0\n",
      "1\n",
      "0\n",
      "1\n",
      "0\n",
      "1\n",
      "2\n",
      "3\n",
      "0\n"
     ]
    },
    {
     "data": {
      "text/plain": [
       "1"
      ]
     },
     "execution_count": 22,
     "metadata": {},
     "output_type": "execute_result"
    }
   ],
   "source": [
    "from numpy.random import uniform\n",
    "\n",
    "def draw(k):  # pays if k consecutive successes in a sequence\n",
    "\n",
    "    payoff = 0\n",
    "    count = 0\n",
    "\n",
    "    for i in range(10):\n",
    "        U = uniform()\n",
    "        count = count + 1 if U < 0.5 else 0\n",
    "        print(count)    # print counts for clarity\n",
    "        if count == k:\n",
    "            payoff = 1\n",
    "\n",
    "    return payoff\n",
    "\n",
    "draw(3)"
   ]
  },
  {
   "cell_type": "markdown",
   "metadata": {},
   "source": [
    "Here\\'s another function for the second random device."
   ]
  },
  {
   "cell_type": "code",
   "execution_count": 23,
   "metadata": {},
   "outputs": [
    {
     "name": "stdout",
     "output_type": "stream",
     "text": [
      "1\n",
      "1\n",
      "2\n",
      "3\n",
      "4\n",
      "5\n",
      "6\n",
      "6\n",
      "6\n",
      "6\n"
     ]
    },
    {
     "data": {
      "text/plain": [
       "1"
      ]
     },
     "execution_count": 23,
     "metadata": {},
     "output_type": "execute_result"
    }
   ],
   "source": [
    "def draw_new(k):  # pays if k successes in a sequence\n",
    "\n",
    "    payoff = 0\n",
    "    count = 0\n",
    "\n",
    "    for i in range(10):\n",
    "        U = uniform()\n",
    "        count = count + ( 1 if U < 0.5 else 0 )\n",
    "        print(count)    \n",
    "        if count == k:\n",
    "            payoff = 1\n",
    "\n",
    "    return payoff\n",
    "\n",
    "draw_new(3)"
   ]
  }
 ],
 "metadata": {
  "jupytext": {
   "text_representation": {
    "extension": ".md",
    "format_name": "myst"
   }
  },
  "kernelspec": {
   "display_name": "Python 3",
   "language": "python",
   "name": "python3"
  },
  "language_info": {
   "codemirror_mode": {
    "name": "ipython",
    "version": 3
   },
   "file_extension": ".py",
   "mimetype": "text/x-python",
   "name": "python",
   "nbconvert_exporter": "python",
   "pygments_lexer": "ipython3",
   "version": "3.7.8"
  },
  "source_map": [
   10,
   34,
   40,
   59,
   63,
   67,
   71,
   73,
   77,
   82,
   84,
   99,
   103,
   118,
   121,
   126,
   130,
   132,
   140,
   149,
   165,
   168,
   191,
   201,
   214,
   225,
   245,
   259,
   280,
   291,
   309,
   313,
   316,
   376,
   384,
   388,
   400,
   406,
   424,
   428
  ]
 },
 "nbformat": 4,
 "nbformat_minor": 4
}