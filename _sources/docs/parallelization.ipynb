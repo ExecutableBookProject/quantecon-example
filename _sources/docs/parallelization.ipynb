{
 "cells": [
  {
   "cell_type": "markdown",
   "metadata": {},
   "source": [
    "(parallel)=\n",
    "\n",
    "# Parallelization\n",
    "\n",
    "In addition to what\\'s in Anaconda, this lecture will need the following\n",
    "libraries:"
   ]
  },
  {
   "cell_type": "code",
   "execution_count": 1,
   "metadata": {
    "tags": [
     "remove-output"
    ]
   },
   "outputs": [
    {
     "name": "stdout",
     "output_type": "stream",
     "text": [
      "Collecting quantecon\r\n"
     ]
    },
    {
     "name": "stdout",
     "output_type": "stream",
     "text": [
      "  Downloading quantecon-0.4.8-py3-none-any.whl (230 kB)\r\n",
      "\u001b[?25l\r",
      "\u001b[K     |█▍                              | 10 kB 32.0 MB/s eta 0:00:01\r",
      "\u001b[K     |██▉                             | 20 kB 5.5 MB/s eta 0:00:01\r",
      "\u001b[K     |████▎                           | 30 kB 6.7 MB/s eta 0:00:01\r",
      "\u001b[K     |█████▊                          | 40 kB 7.5 MB/s eta 0:00:01\r",
      "\u001b[K     |███████▏                        | 51 kB 5.9 MB/s eta 0:00:01\r",
      "\u001b[K     |████████▌                       | 61 kB 6.4 MB/s eta 0:00:01\r",
      "\u001b[K     |██████████                      | 71 kB 7.0 MB/s eta 0:00:01\r",
      "\u001b[K     |███████████▍                    | 81 kB 7.6 MB/s eta 0:00:01\r",
      "\u001b[K     |████████████▉                   | 92 kB 7.8 MB/s eta 0:00:01\r",
      "\u001b[K     |██████████████▎                 | 102 kB 8.0 MB/s eta 0:00:01\r",
      "\u001b[K     |███████████████▋                | 112 kB 8.0 MB/s eta 0:00:01\r",
      "\u001b[K     |█████████████████               | 122 kB 8.0 MB/s eta 0:00:01\r",
      "\u001b[K     |██████████████████▌             | 133 kB 8.0 MB/s eta 0:00:01\r",
      "\u001b[K     |████████████████████            | 143 kB 8.0 MB/s eta 0:00:01\r",
      "\u001b[K     |█████████████████████▍          | 153 kB 8.0 MB/s eta 0:00:01\r",
      "\u001b[K     |██████████████████████▊         | 163 kB 8.0 MB/s eta 0:00:01\r",
      "\u001b[K     |████████████████████████▏       | 174 kB 8.0 MB/s eta 0:00:01\r",
      "\u001b[K     |█████████████████████████▋      | 184 kB 8.0 MB/s eta 0:00:01\r",
      "\u001b[K     |███████████████████████████     | 194 kB 8.0 MB/s eta 0:00:01\r",
      "\u001b[K     |████████████████████████████▌   | 204 kB 8.0 MB/s eta 0:00:01"
     ]
    },
    {
     "name": "stdout",
     "output_type": "stream",
     "text": [
      "\r",
      "\u001b[K     |█████████████████████████████▉  | 215 kB 8.0 MB/s eta 0:00:01\r",
      "\u001b[K     |███████████████████████████████▎| 225 kB 8.0 MB/s eta 0:00:01\r",
      "\u001b[K     |████████████████████████████████| 230 kB 8.0 MB/s \r\n",
      "\u001b[?25hRequirement already satisfied, skipping upgrade: numpy in /usr/share/miniconda3/envs/qe-example/lib/python3.7/site-packages (from quantecon) (1.19.1)\r\n",
      "Requirement already satisfied, skipping upgrade: scipy>=1.0.0 in /usr/share/miniconda3/envs/qe-example/lib/python3.7/site-packages (from quantecon) (1.5.2)\r\n",
      "Requirement already satisfied, skipping upgrade: requests in /usr/share/miniconda3/envs/qe-example/lib/python3.7/site-packages (from quantecon) (2.24.0)\r\n",
      "Requirement already satisfied, skipping upgrade: numba>=0.38 in /usr/share/miniconda3/envs/qe-example/lib/python3.7/site-packages (from quantecon) (0.51.2)\r\n"
     ]
    },
    {
     "name": "stdout",
     "output_type": "stream",
     "text": [
      "Requirement already satisfied, skipping upgrade: sympy in /usr/share/miniconda3/envs/qe-example/lib/python3.7/site-packages (from quantecon) (1.6.2)\r\n",
      "Requirement already satisfied, skipping upgrade: urllib3!=1.25.0,!=1.25.1,<1.26,>=1.21.1 in /usr/share/miniconda3/envs/qe-example/lib/python3.7/site-packages (from requests->quantecon) (1.25.10)\r\n",
      "Requirement already satisfied, skipping upgrade: idna<3,>=2.5 in /usr/share/miniconda3/envs/qe-example/lib/python3.7/site-packages (from requests->quantecon) (2.10)\r\n",
      "Requirement already satisfied, skipping upgrade: certifi>=2017.4.17 in /usr/share/miniconda3/envs/qe-example/lib/python3.7/site-packages (from requests->quantecon) (2020.6.20)\r\n",
      "Requirement already satisfied, skipping upgrade: chardet<4,>=3.0.2 in /usr/share/miniconda3/envs/qe-example/lib/python3.7/site-packages (from requests->quantecon) (3.0.4)\r\n",
      "Requirement already satisfied, skipping upgrade: setuptools in /usr/share/miniconda3/envs/qe-example/lib/python3.7/site-packages (from numba>=0.38->quantecon) (49.6.0.post20200917)\r\n",
      "Requirement already satisfied, skipping upgrade: llvmlite<0.35,>=0.34.0.dev0 in /usr/share/miniconda3/envs/qe-example/lib/python3.7/site-packages (from numba>=0.38->quantecon) (0.34.0)\r\n",
      "Requirement already satisfied, skipping upgrade: mpmath>=0.19 in /usr/share/miniconda3/envs/qe-example/lib/python3.7/site-packages (from sympy->quantecon) (1.1.0)\r\n"
     ]
    },
    {
     "name": "stdout",
     "output_type": "stream",
     "text": [
      "Installing collected packages: quantecon\r\n"
     ]
    },
    {
     "name": "stdout",
     "output_type": "stream",
     "text": [
      "Successfully installed quantecon-0.4.8\r\n"
     ]
    }
   ],
   "source": [
    "!pip install --upgrade quantecon"
   ]
  },
  {
   "cell_type": "markdown",
   "metadata": {},
   "source": [
    "## Overview\n",
    "\n",
    "The growth of CPU clock speed (i.e., the speed at which a single chain\n",
    "of logic can be run) has slowed dramatically in recent years.\n",
    "\n",
    "This is unlikely to change in the near future, due to inherent physical\n",
    "limitations on the construction of chips and circuit boards.\n",
    "\n",
    "Chip designers and computer programmers have responded to the slowdown\n",
    "by seeking a different path to fast execution: parallelization.\n",
    "\n",
    "Hardware makers have increased the number of cores (physical CPUs)\n",
    "embedded in each machine.\n",
    "\n",
    "For programmers, the challenge has been to exploit these multiple CPUs\n",
    "by running many processes in parallel (i.e., simultaneously).\n",
    "\n",
    "This is particularly important in scientific programming, which requires\n",
    "handling\n",
    "\n",
    "-   large amounts of data and\n",
    "-   CPU intensive simulations and other calculations.\n",
    "\n",
    "In this lecture we discuss parallelization for scientific computing,\n",
    "with a focus on\n",
    "\n",
    "1.  the best tools for parallelization in Python and\n",
    "2.  how these tools can be applied to quantitative economic problems.\n",
    "\n",
    "Let\\'s start with some imports:"
   ]
  },
  {
   "cell_type": "code",
   "execution_count": 2,
   "metadata": {},
   "outputs": [
    {
     "name": "stderr",
     "output_type": "stream",
     "text": [
      "/usr/share/miniconda3/envs/qe-example/lib/python3.7/site-packages/numba/np/ufunc/parallel.py:363: NumbaWarning: \u001b[1mThe TBB threading layer requires TBB version 2019.5 or later i.e., TBB_INTERFACE_VERSION >= 11005. Found TBB_INTERFACE_VERSION = 9107. The TBB threading layer is disabled.\u001b[0m\n",
      "  warnings.warn(problem)\n"
     ]
    }
   ],
   "source": [
    "import numpy as np\n",
    "import quantecon as qe\n",
    "import matplotlib.pyplot as plt\n",
    "\n",
    "%matplotlib inline"
   ]
  },
  {
   "cell_type": "markdown",
   "metadata": {},
   "source": [
    "## Types of Parallelization\n",
    "\n",
    "Large textbooks have been written on different approaches to\n",
    "parallelization but we will keep a tight focus on what\\'s most useful to\n",
    "us.\n",
    "\n",
    "We will briefly review the two main kinds of parallelization commonly\n",
    "used in scientific computing and discuss their pros and cons.\n",
    "\n",
    "### Multiprocessing\n",
    "\n",
    "Multiprocessing means concurrent execution of multiple processes using\n",
    "more than one processor.\n",
    "\n",
    "In this context, a **process** is a chain of instructions (i.e., a\n",
    "program).\n",
    "\n",
    "Multiprocessing can be carried out on one machine with multiple CPUs or\n",
    "on a collection of machines connected by a network.\n",
    "\n",
    "In the latter case, the collection of machines is usually called a\n",
    "**cluster**.\n",
    "\n",
    "With multiprocessing, each process has its own memory space, although\n",
    "the physical memory chip might be shared.\n",
    "\n",
    "### Multithreading\n",
    "\n",
    "Multithreading is similar to multiprocessing, except that, during\n",
    "execution, the threads all share the same memory space.\n",
    "\n",
    "Native Python struggles to implement multithreading due to some [legacy\n",
    "design features](https://wiki.python.org/moin/GlobalInterpreterLock).\n",
    "\n",
    "But this is not a restriction for scientific libraries like NumPy and\n",
    "Numba.\n",
    "\n",
    "Functions imported from these libraries and JIT-compiled code run in low\n",
    "level execution environments where Python\\'s legacy restrictions don\\'t\n",
    "apply.\n",
    "\n",
    "### Advantages and Disadvantages\n",
    "\n",
    "Multithreading is more lightweight because most system and memory\n",
    "resources are shared by the threads.\n",
    "\n",
    "In addition, the fact that multiple threads all access a shared pool of\n",
    "memory is extremely convenient for numerical programming.\n",
    "\n",
    "On the other hand, multiprocessing is more flexible and can be\n",
    "distributed across clusters.\n",
    "\n",
    "For the great majority of what we do in these lectures, multithreading\n",
    "will suffice.\n",
    "\n",
    "## Implicit Multithreading in NumPy\n",
    "\n",
    "Actually, you have already been using multithreading in your Python\n",
    "code, although you might not have realized it.\n",
    "\n",
    "(We are, as usual, assuming that you are running the latest version of\n",
    "Anaconda Python.)\n",
    "\n",
    "This is because NumPy cleverly implements multithreading in a lot of its\n",
    "compiled code.\n",
    "\n",
    "Let\\'s look at some examples to see this in action.\n",
    "\n",
    "### A Matrix Operation\n",
    "\n",
    "The next piece of code computes the eigenvalues of a large number of\n",
    "randomly generated matrices.\n",
    "\n",
    "It takes a few seconds to run."
   ]
  },
  {
   "cell_type": "code",
   "execution_count": 3,
   "metadata": {},
   "outputs": [],
   "source": [
    "n = 20\n",
    "m = 1000\n",
    "for i in range(n):\n",
    "    X = np.random.randn(m, m)\n",
    "    λ = np.linalg.eigvals(X)"
   ]
  },
  {
   "cell_type": "markdown",
   "metadata": {},
   "source": [
    "Now, let\\'s look at the output of the `htop` system monitor\n",
    "on our machine while this code is running:\n",
    "\n",
    "```{figure} /_static/lecture_specific/parallelization/htop_parallel_npmat.png\n",
    ":scale: 65%\n",
    "```\n",
    "\n",
    "We can see that 4 of the 8 CPUs are running at full speed.\n",
    "\n",
    "This is because NumPy\\'s `eigvals` routine neatly splits up the tasks\n",
    "and distributes them to different threads.\n",
    "\n",
    "### A Multithreaded Ufunc\n",
    "\n",
    "Over the last few years, NumPy has managed to push this kind of\n",
    "multithreading out to more and more operations.\n",
    "\n",
    "For example, let\\'s return to a maximization problem\n",
    "{ref}`discussed previously <ufuncs>`:"
   ]
  },
  {
   "cell_type": "code",
   "execution_count": 4,
   "metadata": {},
   "outputs": [],
   "source": [
    "def f(x, y):\n",
    "    return np.cos(x**2 + y**2) / (1 + x**2 + y**2)\n",
    "\n",
    "grid = np.linspace(-3, 3, 5000)\n",
    "x, y = np.meshgrid(grid, grid)"
   ]
  },
  {
   "cell_type": "code",
   "execution_count": 5,
   "metadata": {},
   "outputs": [
    {
     "name": "stdout",
     "output_type": "stream",
     "text": [
      "1.1 s ± 12.4 ms per loop (mean ± std. dev. of 7 runs, 1 loop each)\n"
     ]
    }
   ],
   "source": [
    "%timeit np.max(f(x, y))"
   ]
  },
  {
   "cell_type": "markdown",
   "metadata": {},
   "source": [
    "If you have a system monitor such as `htop` (Linux/Mac) or\n",
    "`perfmon` (Windows), then try running this and then\n",
    "observing the load on your CPUs.\n",
    "\n",
    "(You will probably need to bump up the grid size to see large effects.)\n",
    "\n",
    "At least on our machine, the output shows that the operation is\n",
    "successfully distributed across multiple threads.\n",
    "\n",
    "This is one of the reasons why the vectorized code above is fast.\n",
    "\n",
    "### A Comparison with Numba\n",
    "\n",
    "To get some basis for comparison for the last example, let\\'s try the\n",
    "same thing with Numba.\n",
    "\n",
    "In fact there is an easy way to do this, since Numba can also be used to\n",
    "create custom {ref}`ufuncs <ufuncs>` with the\n",
    "[@vectorize](http://numba.pydata.org/numba-doc/dev/user/vectorize.html)\n",
    "decorator."
   ]
  },
  {
   "cell_type": "code",
   "execution_count": 6,
   "metadata": {},
   "outputs": [
    {
     "data": {
      "text/plain": [
       "0.9999992797121728"
      ]
     },
     "execution_count": 6,
     "metadata": {},
     "output_type": "execute_result"
    }
   ],
   "source": [
    "from numba import vectorize\n",
    "\n",
    "@vectorize\n",
    "def f_vec(x, y):\n",
    "    return np.cos(x**2 + y**2) / (1 + x**2 + y**2)\n",
    "\n",
    "np.max(f_vec(x, y))  # Run once to compile"
   ]
  },
  {
   "cell_type": "code",
   "execution_count": 7,
   "metadata": {},
   "outputs": [
    {
     "name": "stdout",
     "output_type": "stream",
     "text": [
      "704 ms ± 5.62 ms per loop (mean ± std. dev. of 7 runs, 1 loop each)\n"
     ]
    }
   ],
   "source": [
    "%timeit np.max(f_vec(x, y))"
   ]
  },
  {
   "cell_type": "markdown",
   "metadata": {},
   "source": [
    "At least on our machine, the difference in the speed between the Numba\n",
    "version and the vectorized NumPy version shown above is not large.\n",
    "\n",
    "But there\\'s quite a bit going on here so let\\'s try to break down what\n",
    "is happening.\n",
    "\n",
    "Both Numba and NumPy use efficient machine code that\\'s specialized to\n",
    "these floating point operations.\n",
    "\n",
    "However, the code NumPy uses is, in some ways, less efficient.\n",
    "\n",
    "The reason is that, in NumPy, the operation\n",
    "`np.cos(x**2 + y**2) / (1 + x**2 + y**2)` generates several intermediate\n",
    "arrays.\n",
    "\n",
    "For example, a new array is created when `x**2` is calculated.\n",
    "\n",
    "The same is true when `y**2` is calculated, and then `x**2 + y**2` and\n",
    "so on.\n",
    "\n",
    "Numba avoids creating all these intermediate arrays by compiling one\n",
    "function that is specialized to the entire operation.\n",
    "\n",
    "But if this is true, then why isn\\'t the Numba code faster?\n",
    "\n",
    "The reason is that NumPy makes up for its disadvantages with implicit\n",
    "multithreading, as we\\'ve just discussed.\n",
    "\n",
    "### Multithreading a Numba Ufunc\n",
    "\n",
    "Can we get both of these advantages at once?\n",
    "\n",
    "In other words, can we pair\n",
    "\n",
    "-   the efficiency of Numba\\'s highly specialized JIT compiled function\n",
    "    and\n",
    "-   the speed gains from parallelization obtained by NumPy\\'s implicit\n",
    "    multithreading?\n",
    "\n",
    "It turns out that we can, by adding some type information plus\n",
    "`target='parallel'`."
   ]
  },
  {
   "cell_type": "code",
   "execution_count": 8,
   "metadata": {},
   "outputs": [
    {
     "data": {
      "text/plain": [
       "0.9999992797121728"
      ]
     },
     "execution_count": 8,
     "metadata": {},
     "output_type": "execute_result"
    }
   ],
   "source": [
    "@vectorize('float64(float64, float64)', target='parallel')\n",
    "def f_vec(x, y):\n",
    "    return np.cos(x**2 + y**2) / (1 + x**2 + y**2)\n",
    "\n",
    "np.max(f_vec(x, y))  # Run once to compile"
   ]
  },
  {
   "cell_type": "code",
   "execution_count": 9,
   "metadata": {},
   "outputs": [
    {
     "name": "stdout",
     "output_type": "stream",
     "text": [
      "516 ms ± 8.21 ms per loop (mean ± std. dev. of 7 runs, 1 loop each)\n"
     ]
    }
   ],
   "source": [
    "%timeit np.max(f_vec(x, y))"
   ]
  },
  {
   "cell_type": "markdown",
   "metadata": {},
   "source": [
    "Now our code runs significantly faster than the NumPy version.\n",
    "\n",
    "## Multithreaded Loops in Numba\n",
    "\n",
    "We just saw one approach to parallelization in Numba, using the\n",
    "`parallel` flag in `@vectorize`.\n",
    "\n",
    "This is neat but, it turns out, not well suited to many problems we\n",
    "consider.\n",
    "\n",
    "Fortunately, Numba provides another approach to multithreading that will\n",
    "work for us almost everywhere parallelization is possible.\n",
    "\n",
    "To illustrate, let\\'s look first at a simple, single-threaded (i.e.,\n",
    "non-parallelized) piece of code.\n",
    "\n",
    "The code simulates updating the wealth $w_t$ of a household via the rule\n",
    "\n",
    "$$\n",
    "w_{t+1} = R_{t+1} s w_t + y_{t+1}\n",
    "$$\n",
    "\n",
    "Here\n",
    "\n",
    "-   $R$ is the gross rate of return on assets\n",
    "-   $s$ is the savings rate of the household and\n",
    "-   $y$ is labor income.\n",
    "\n",
    "We model both $R$ and $y$ as independent draws from a lognormal\n",
    "distribution.\n",
    "\n",
    "Here\\'s the code:"
   ]
  },
  {
   "cell_type": "code",
   "execution_count": 10,
   "metadata": {},
   "outputs": [],
   "source": [
    "from numpy.random import randn\n",
    "from numba import njit\n",
    "\n",
    "@njit\n",
    "def h(w, r=0.1, s=0.3, v1=0.1, v2=1.0):\n",
    "    \"\"\"\n",
    "    Updates household wealth.\n",
    "    \"\"\"\n",
    "\n",
    "    # Draw shocks\n",
    "    R = np.exp(v1 * randn()) * (1 + r)\n",
    "    y = np.exp(v2 * randn())\n",
    "\n",
    "    # Update wealth\n",
    "    w = R * s * w + y\n",
    "    return w"
   ]
  },
  {
   "cell_type": "markdown",
   "metadata": {},
   "source": [
    "Let\\'s have a look at how wealth evolves under this rule."
   ]
  },
  {
   "cell_type": "code",
   "execution_count": 11,
   "metadata": {},
   "outputs": [
    {
     "data": {
      "image/png": "[encoded data removed]",
      "text/plain": [
       "<Figure size 432x288 with 1 Axes>"
      ]
     },
     "metadata": {
      "filenames": {
       "image/png": "/home/runner/work/quantecon-example/quantecon-example/book/_build/jupyter_execute/docs/parallelization_18_0.png"
      },
      "needs_background": "light"
     },
     "output_type": "display_data"
    }
   ],
   "source": [
    "fig, ax = plt.subplots()\n",
    "\n",
    "T = 100\n",
    "w = np.empty(T)\n",
    "w[0] = 5\n",
    "for t in range(T-1):\n",
    "    w[t+1] = h(w[t])\n",
    "\n",
    "ax.plot(w)\n",
    "ax.set_xlabel('$t$', fontsize=12)\n",
    "ax.set_ylabel('$w_{t}$', fontsize=12)\n",
    "plt.show()"
   ]
  },
  {
   "cell_type": "markdown",
   "metadata": {},
   "source": [
    "Now let\\'s suppose that we have a large population of households and we\n",
    "want to know what median wealth will be.\n",
    "\n",
    "This is not easy to solve with pencil and paper, so we will use\n",
    "simulation instead.\n",
    "\n",
    "In particular, we will simulate a large number of households and then\n",
    "calculate median wealth for this group.\n",
    "\n",
    "Suppose we are interested in the long-run average of this median over\n",
    "time.\n",
    "\n",
    "It turns out that, for the specification that we\\'ve chosen above, we\n",
    "can calculate this by taking a one-period snapshot of what has happened\n",
    "to median wealth of the group at the end of a long simulation.\n",
    "\n",
    "Moreover, provided the simulation period is long enough, initial\n",
    "conditions don\\'t matter.\n",
    "\n",
    "-   This is due to something called ergodicity, which we will discuss [later on](https://python-intro.quantecon.org/finite_markov.html#Ergodicity).\n",
    "\n",
    "So, in summary, we are going to simulate 50,000 households by\n",
    "\n",
    "1.  arbitrarily setting initial wealth to 1 and\n",
    "2.  simulating forward in time for 1,000 periods.\n",
    "\n",
    "Then we\\'ll calculate median wealth at the end period.\n",
    "\n",
    "Here\\'s the code:"
   ]
  },
  {
   "cell_type": "code",
   "execution_count": 12,
   "metadata": {},
   "outputs": [],
   "source": [
    "@njit\n",
    "def compute_long_run_median(w0=1, T=1000, num_reps=50_000):\n",
    "\n",
    "    obs = np.empty(num_reps)\n",
    "    for i in range(num_reps):\n",
    "        w = w0\n",
    "        for t in range(T):\n",
    "            w = h(w)\n",
    "        obs[i] = w\n",
    "\n",
    "    return np.median(obs)"
   ]
  },
  {
   "cell_type": "markdown",
   "metadata": {},
   "source": [
    "Let\\'s see how fast this runs:"
   ]
  },
  {
   "cell_type": "code",
   "execution_count": 13,
   "metadata": {},
   "outputs": [
    {
     "name": "stdout",
     "output_type": "stream",
     "text": [
      "CPU times: user 8.95 s, sys: 17.2 ms, total: 8.97 s\n",
      "Wall time: 8.95 s\n"
     ]
    },
    {
     "data": {
      "text/plain": [
       "1.8481531442784245"
      ]
     },
     "execution_count": 13,
     "metadata": {},
     "output_type": "execute_result"
    }
   ],
   "source": [
    "%%time\n",
    "compute_long_run_median()"
   ]
  },
  {
   "cell_type": "markdown",
   "metadata": {},
   "source": [
    "To speed this up, we\\'re going to parallelize it via multithreading.\n",
    "\n",
    "To do so, we add the `parallel=True` flag and change `range` to\n",
    "`prange`:"
   ]
  },
  {
   "cell_type": "code",
   "execution_count": 14,
   "metadata": {},
   "outputs": [],
   "source": [
    "from numba import prange\n",
    "\n",
    "@njit(parallel=True)\n",
    "def compute_long_run_median_parallel(w0=1, T=1000, num_reps=50_000):\n",
    "\n",
    "    obs = np.empty(num_reps)\n",
    "    for i in prange(num_reps):\n",
    "        w = w0\n",
    "        for t in range(T):\n",
    "            w = h(w)\n",
    "        obs[i] = w\n",
    "\n",
    "    return np.median(obs)"
   ]
  },
  {
   "cell_type": "markdown",
   "metadata": {},
   "source": [
    "Let\\'s look at the timing:"
   ]
  },
  {
   "cell_type": "code",
   "execution_count": 15,
   "metadata": {},
   "outputs": [
    {
     "name": "stdout",
     "output_type": "stream",
     "text": [
      "CPU times: user 7.9 s, sys: 10.5 ms, total: 7.91 s\n",
      "Wall time: 4.21 s\n"
     ]
    },
    {
     "data": {
      "text/plain": [
       "1.832009928072464"
      ]
     },
     "execution_count": 15,
     "metadata": {},
     "output_type": "execute_result"
    }
   ],
   "source": [
    "%%time\n",
    "compute_long_run_median_parallel()"
   ]
  },
  {
   "cell_type": "markdown",
   "metadata": {},
   "source": [
    "The speed-up is significant.\n",
    "\n",
    "### A Warning\n",
    "\n",
    "Parallelization works well in the outer loop of the last example because\n",
    "the individual tasks inside the loop are independent of each other.\n",
    "\n",
    "If this independence fails then parallelization is often problematic.\n",
    "\n",
    "For example, each step inside the inner loop depends on the last step,\n",
    "so independence fails, and this is why we use ordinary `range` instead\n",
    "of `prange`.\n",
    "\n",
    "When you see us using `prange` in later lectures, it is because the\n",
    "independence of tasks holds true.\n",
    "\n",
    "When you see us using ordinary `range` in a jitted function, it is\n",
    "either because the speed gain from parallelization is small or because\n",
    "independence fails.\n",
    "\n",
    "## Exercises\n",
    "\n",
    "### Exercise 1\n",
    "\n",
    "In {ref}`an earlier exercise <speed_ex1>`, we\n",
    "used Numba to accelerate an effort to compute the constant $\\pi$ by\n",
    "Monte Carlo.\n",
    "\n",
    "Now try adding parallelization and see if you get further speed gains.\n",
    "\n",
    "You should not expect huge gains here because, while there are many\n",
    "independent tasks (draw point and test if in circle), each one has low\n",
    "execution time.\n",
    "\n",
    "Generally speaking, parallelization is less effective when the\n",
    "individual tasks to be parallelized are very small relative to total\n",
    "execution time.\n",
    "\n",
    "This is due to overheads associated with spreading all of these small\n",
    "tasks across multiple CPUs.\n",
    "\n",
    "Nevertheless, with suitable hardware, it is possible to get nontrivial\n",
    "speed gains in this exercise.\n",
    "\n",
    "For the size of the Monte Carlo simulation, use something substantial,\n",
    "such as `n = 100_000_000`.\n",
    "\n",
    "## Solutions\n",
    "\n",
    "### Exercise 1\n",
    "\n",
    "Here is one solution:"
   ]
  },
  {
   "cell_type": "code",
   "execution_count": 16,
   "metadata": {},
   "outputs": [],
   "source": [
    "from random import uniform\n",
    "\n",
    "@njit(parallel=True)\n",
    "def calculate_pi(n=1_000_000):\n",
    "    count = 0\n",
    "    for i in prange(n):\n",
    "        u, v = uniform(0, 1), uniform(0, 1)\n",
    "        d = np.sqrt((u - 0.5)**2 + (v - 0.5)**2)\n",
    "        if d < 0.5:\n",
    "            count += 1\n",
    "\n",
    "    area_estimate = count / n\n",
    "    return area_estimate * 4  # dividing by radius**2"
   ]
  },
  {
   "cell_type": "markdown",
   "metadata": {},
   "source": [
    "Now let\\'s see how fast it runs:"
   ]
  },
  {
   "cell_type": "code",
   "execution_count": 17,
   "metadata": {},
   "outputs": [
    {
     "name": "stdout",
     "output_type": "stream",
     "text": [
      "CPU times: user 422 ms, sys: 0 ns, total: 422 ms\n",
      "Wall time: 417 ms\n"
     ]
    },
    {
     "data": {
      "text/plain": [
       "3.141372"
      ]
     },
     "execution_count": 17,
     "metadata": {},
     "output_type": "execute_result"
    }
   ],
   "source": [
    "%time calculate_pi()"
   ]
  },
  {
   "cell_type": "code",
   "execution_count": 18,
   "metadata": {},
   "outputs": [
    {
     "name": "stdout",
     "output_type": "stream",
     "text": [
      "CPU times: user 14.8 ms, sys: 0 ns, total: 14.8 ms\n",
      "Wall time: 9.47 ms\n"
     ]
    },
    {
     "data": {
      "text/plain": [
       "3.1412"
      ]
     },
     "execution_count": 18,
     "metadata": {},
     "output_type": "execute_result"
    }
   ],
   "source": [
    "%time calculate_pi()"
   ]
  },
  {
   "cell_type": "markdown",
   "metadata": {},
   "source": [
    "By switching parallelization on and off (selecting `True` or `False` in\n",
    "the `@njit` annotation), we can test the speed gain that multithreading\n",
    "provides on top of JIT compilation.\n",
    "\n",
    "On our workstation, we find that parallelization increases execution\n",
    "speed by a factor of 2 or 3.\n",
    "\n",
    "(If you are executing locally, you will get different numbers, depending\n",
    "mainly on the number of CPUs on your machine.)"
   ]
  }
 ],
 "metadata": {
  "jupytext": {
   "text_representation": {
    "extension": ".md",
    "format_name": "myst"
   }
  },
  "kernelspec": {
   "display_name": "Python 3",
   "language": "python",
   "name": "python3"
  },
  "language_info": {
   "codemirror_mode": {
    "name": "ipython",
    "version": 3
   },
   "file_extension": ".py",
   "mimetype": "text/x-python",
   "name": "python",
   "nbconvert_exporter": "python",
   "pygments_lexer": "ipython3",
   "version": "3.7.8"
  },
  "source_map": [
   10,
   19,
   23,
   56,
   62,
   139,
   145,
   167,
   175,
   177,
   200,
   210,
   212,
   256,
   264,
   266,
   301,
   318,
   322,
   335,
   367,
   379,
   383,
   386,
   393,
   407,
   411,
   414,
   469,
   483,
   487,
   491,
   493
  ]
 },
 "nbformat": 4,
 "nbformat_minor": 4
}